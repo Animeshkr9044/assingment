{
 "cells": [
  {
   "cell_type": "code",
   "execution_count": null,
   "id": "e069c3f9-3b82-4953-8cbe-a577cfcd35ed",
   "metadata": {},
   "outputs": [],
   "source": [
    "ans1-Guido van Rossum\n",
    "ans2-Python is an interpreted programming language, supporting object-oriented, structured, and functional programming.\n",
    "ans3-Yes, Python is a case-sensitive language, i.e., it treats uppercase and lowercase characters differently.\n",
    "     This applies to identifiers too. You must avoid using the same name with different cases while naming identifiers\n",
    "ans4-   The extensions for Python files is .py\n",
    "ans5-Python is both compiled as well as an interpreted language, which means when we run a python code, it is first compiled and then interpreted line by line.\n",
    "ans8-sys.version\n",
    "ans7-We can write a single-line comment by adding a single # character before any statement or line of code\n",
    "ans6-1-Function definition block: Used to define a function in Python. It starts with the keyword \"def\", followed by the function name, arguments (if any), and a colon. The body of the function is indented.\n",
    "     {def my_function(argument1, argument2):\n",
    "    # Code block for the function\n",
    "    result = argument1 + argument2\n",
    "    return result\n",
    "     }\n",
    "    2-Conditional block: Used to perform conditional statements in Python. It starts with the keyword \"if\", followed by the condition to be checked, and a colon. The body of the condition is indented.\n",
    "ans9- lambda \n",
    "ans10-pip stands for \"Pip Installs Packages\". It is a package manager for the Python programming language that allows you to easily install and manage third-party packages and libraries that are not included in the Python standard library\n",
    "ans11-few built in function in python\n",
    "     1-input()\n",
    "     2-len()\n",
    "     3-max()\n",
    "     4-print()\n",
    "ans12-An identifier can have a maximum length of 79 characters in Python.\n",
    "ans13-1-Presence of third-party modules \n",
    "    2-Extensive support libraries(NumPy for numerical calculations, Pandas for data analytics, etc.) \n",
    "    3-Open source and large active community base \n",
    "    4-Versatile, Easy to read, learn and write\n",
    "    5-User-friendly data structures \n",
    "    6-High-level language \n",
    "ans14-Python memory manager takes care of the bulk of the memory management work and allows us to concentrate on our code\n",
    "      There are two types of memory allocation in Python, static and dynamic.\n",
    "      1-1. Static memory\n",
    "           The stack data structure provides static memory allocation, meaning the variables are in the stack memory. Statically assigned variables, as the name implies, are permanent; this means that they must be allocated in advance and persist for the duration of the program. Another point to remember is that we cannot reuse the memory allocated in the stack memory. Therefore, memory reusability is not possible.\n",
    "     2-2. Dynamic memory\n",
    "         The dynamic memory allocation uses heap data structures in its implementation, implying that variables are in the heap memory. As the name suggests, dynamically allocated variables are not permanent and can be changed while a program is running. Additionally, allotted memory can be relinquished and reused. However, it takes longer to complete because dynamic memory allocation occurs during program execution. Furthermore, after utilizing the allocated memory, we must release it. Otherwise, problems such as memory leaks might arise.\n",
    "\n",
    "ans15-Install python from this link https://www.python.org/downloads/\n",
    "      After this, install it on your PC. Look for the location where PYTHON has been installed on your PC using tge following command on your command prompt: cmd python.\n",
    "      Then go to advanced system settings and add new variable and name it as PYTHON_NAME and paste the copied path.\n",
    "      Then look for the path variable, select it's value and select edit\n",
    "     Add a semicolon towards the end of the value if it's not present and then type %PYTHON_HOME%\n",
    "ans16-Where in other programming languages the indentation in code is for readability only, the indentation in Python is very important.\n",
    "      Python uses indentation to indicate a block of code.        "
   ]
  },
  {
   "cell_type": "code",
   "execution_count": 3,
   "id": "f14eefe5-9194-4b8a-93e0-58fb40178d39",
   "metadata": {},
   "outputs": [
    {
     "name": "stdout",
     "output_type": "stream",
     "text": [
      "User Current Version:- 3.10.8 | packaged by conda-forge | (main, Nov 22 2022, 08:26:04) [GCC 10.4.0]\n"
     ]
    }
   ],
   "source": [
    "import sys\n",
    "\n",
    "\n",
    "print(\"User Current Version:-\", sys.version)\n"
   ]
  }
 ],
 "metadata": {
  "kernelspec": {
   "display_name": "Python 3 (ipykernel)",
   "language": "python",
   "name": "python3"
  },
  "language_info": {
   "codemirror_mode": {
    "name": "ipython",
    "version": 3
   },
   "file_extension": ".py",
   "mimetype": "text/x-python",
   "name": "python",
   "nbconvert_exporter": "python",
   "pygments_lexer": "ipython3",
   "version": "3.10.8"
  }
 },
 "nbformat": 4,
 "nbformat_minor": 5
}
